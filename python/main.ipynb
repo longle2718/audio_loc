{
 "cells": [
  {
   "cell_type": "code",
   "execution_count": 1,
   "metadata": {},
   "outputs": [],
   "source": [
    "import numpy as np\n",
    "import scipy as sp\n",
    "from mpl_toolkits.mplot3d import Axes3D\n",
    "import matplotlib.pyplot as plt\n",
    "from IPython.display import Audio,Image\n",
    "from PIL import Image as PIL_Image\n",
    "import multiprocessing\n",
    "from joblib import Parallel,delayed\n",
    "\n",
    "import os,sys\n",
    "os.system(\"taskset -p 0xff %d\" % os.getpid())\n",
    "sys.path.append(os.path.expanduser('~')+'/audio_class/python')\n",
    "sys.path.append('../../audio_class/python')\n",
    "import audio_class\n",
    "import ridgeDTW\n",
    "import delay2loc\n",
    "import audio_loc\n",
    "\n",
    "#%matplotlib notebook\n",
    "%matplotlib inline\n",
    "%load_ext autoreload\n",
    "%autoreload 2"
   ]
  },
  {
   "cell_type": "code",
   "execution_count": 2,
   "metadata": {
    "collapsed": true
   },
   "outputs": [],
   "source": [
    "DATAROOT = './BBSPjun5_13/'"
   ]
  },
  {
   "cell_type": "code",
   "execution_count": 3,
   "metadata": {},
   "outputs": [],
   "source": [
    "########## Work on a single recording first\n",
    "fs,data = audio_class.readSegment(DATAROOT+'day2-1370485107.wav')\n",
    "NCh,NDat = np.shape(data)"
   ]
  },
  {
   "cell_type": "code",
   "execution_count": 4,
   "metadata": {},
   "outputs": [
    {
     "name": "stdout",
     "output_type": "stream",
     "text": [
      "fs = 44100\n",
      "NCh = 8, NDat = 2646000\n"
     ]
    },
    {
     "name": "stderr",
     "output_type": "stream",
     "text": [
      "IOPub data rate exceeded.\n",
      "The notebook server will temporarily stop sending output\n",
      "to the client in order to avoid crashing it.\n",
      "To change this limit, set the config variable\n",
      "`--NotebookApp.iopub_data_rate_limit`.\n"
     ]
    }
   ],
   "source": [
    "print('fs = %s' % fs)\n",
    "print('NCh = %s, NDat = %s' % (NCh,NDat))\n",
    "Audio(data[0,:],rate=fs)"
   ]
  },
  {
   "cell_type": "code",
   "execution_count": 6,
   "metadata": {},
   "outputs": [],
   "source": [
    "# hierarchical processing\n",
    "tHieBlk=[0.032,0.064,0.128,0.256]\n",
    "tHieInc=[0.004,0.008,0.016,0.032]\n",
    "hRidges,hSpecs = audio_loc.hieProc(data,fs,tHieBlk,tHieInc)"
   ]
  },
  {
   "cell_type": "code",
   "execution_count": null,
   "metadata": {
    "scrolled": true
   },
   "outputs": [],
   "source": [
    "level = 3\n",
    "chIdx = 7\n",
    "S,F,T,tHBlk,tHInc = hSpecs[level][chIdx]\n",
    "X = hRidges[level][chIdx]\n",
    "print(tHInc == T[1]-T[0])\n",
    "n1 = int(0/tHInc)\n",
    "n2 = int(60/tHInc)\n",
    "print('n1 = %s, n2 = %s' % (n1,n2))\n",
    "\n",
    "plt.figure(figsize=(15,10))\n",
    "plt.subplot(211)\n",
    "plt.pcolormesh(T[n1:n2],F,np.sqrt(S[:,n1:n2]))\n",
    "plt.subplot(212)\n",
    "plt.pcolormesh(T[n1:n2],F,np.sqrt(X[:,n1:n2]))"
   ]
  },
  {
   "cell_type": "code",
   "execution_count": null,
   "metadata": {},
   "outputs": [],
   "source": [
    "# find TF objects at a level\n",
    "level = 3\n",
    "Xs = [None]*NCh\n",
    "for k in range(NCh):\n",
    "    Xs[k] = hRidges[level][k]\n",
    "Xs = np.array(Xs)\n",
    "XAvg = np.mean(Xs,axis=0)\n",
    "masks = audio_loc.labelObjects(XAvg)\n",
    "print(len(masks))"
   ]
  },
  {
   "cell_type": "code",
   "execution_count": null,
   "metadata": {
    "collapsed": true
   },
   "outputs": [],
   "source": [
    "plt.figure()\n",
    "plt.pcolormesh(masks[1])\n",
    "plt.colorbar()"
   ]
  },
  {
   "cell_type": "code",
   "execution_count": null,
   "metadata": {},
   "outputs": [],
   "source": [
    "# prune trivial masks\n",
    "sm = np.zeros(len(masks))\n",
    "for k in range(len(masks)):\n",
    "    sm[k] = np.mean(masks[k])"
   ]
  },
  {
   "cell_type": "code",
   "execution_count": null,
   "metadata": {
    "collapsed": true
   },
   "outputs": [],
   "source": [
    "plt.figure()\n",
    "plt.plot(sm)"
   ]
  },
  {
   "cell_type": "code",
   "execution_count": 7,
   "metadata": {},
   "outputs": [
    {
     "name": "stdout",
     "output_type": "stream",
     "text": [
      "(61, 8, 512, 172)\n"
     ]
    }
   ],
   "source": [
    "# Segmenting for causal/online processing\n",
    "nBlk = int(2./tHInc)\n",
    "nInc = int(1./tHInc)\n",
    "\n",
    "XSegs = [None]*NCh\n",
    "for k in range(NCh):\n",
    "    X = hRidges[level][k]\n",
    "    XSegs[k] = audio_loc.segment(X,nBlk,nInc)\n",
    "XSegs = np.array(XSegs)\n",
    "XSegs = np.swapaxes(XSegs,0,1)\n",
    "print(np.shape(XSegs))"
   ]
  },
  {
   "cell_type": "code",
   "execution_count": 34,
   "metadata": {},
   "outputs": [
    {
     "name": "stdout",
     "output_type": "stream",
     "text": [
      "(512, 172)\n"
     ]
    },
    {
     "data": {
      "text/plain": [
       "<matplotlib.colorbar.Colorbar at 0x7fcf70213a58>"
      ]
     },
     "execution_count": 34,
     "metadata": {},
     "output_type": "execute_result"
    },
    {
     "data": {
      "image/png": "[encoded data removed]",
      "text/plain": [
       "<matplotlib.figure.Figure at 0x7fcf9f22d748>"
      ]
     },
     "metadata": {},
     "output_type": "display_data"
    }
   ],
   "source": [
    "'''\n",
    "plt.figure(figsize=(12,16))\n",
    "for k in range(NCh):\n",
    "    plt.subplot(NCh//2,2,1+k)\n",
    "    plt.pcolormesh(np.sqrt(XSegs[35,k,:,:]))\n",
    "'''\n",
    "XSegAvg = np.mean(XSegs[35,:,:,:],axis=0)\n",
    "plt.figure(figsize=(12,10))\n",
    "XSegAvg = XSegAvg-np.percentile(XSegAvg,90)\n",
    "XSegAvg[XSegAvg < 0] = 0.\n",
    "print(np.shape(XSegAvg))\n",
    "plt.pcolormesh(XSegAvg)\n",
    "plt.colorbar()"
   ]
  },
  {
   "cell_type": "code",
   "execution_count": null,
   "metadata": {},
   "outputs": [],
   "source": [
    "# measure the delays in matrix form\n",
    "mid = n2-n1\n",
    "tInc = T[1]-T[0]\n",
    "\n",
    "meas_delayMat = np.zeros((NCh,NCh))\n",
    "for k in range(NCh):\n",
    "    for l in range(k+1,NCh):\n",
    "        '''\n",
    "        corr = sp.signal.correlate(out[k][n1:n2],out[l][n1:n2])\n",
    "        print(np.argmax(corr))\n",
    "        plt.figure()\n",
    "        plt.plot(corr)\n",
    "        '''\n",
    "        meas_delayMat[k,l] = meas_delayMat[l,k] = \\\n",
    "            tInc*(np.argmax(sp.signal.correlate(out[k][n1:n2],out[l][n1:n2]))-mid)\n",
    "#print(meas_delayMat)"
   ]
  },
  {
   "cell_type": "code",
   "execution_count": null,
   "metadata": {},
   "outputs": [],
   "source": [
    "# load mics' locations\n",
    "micsloc = []\n",
    "with open('micloc1.csv','r') as fid:\n",
    "    for lines in fid:\n",
    "        tokens = lines.split(',')\n",
    "        micsloc.append([float(tokens[0]),float(tokens[1]),float(tokens[2])])\n",
    "micsloc = np.array(micsloc)\n",
    "print('micsloc = %s' % micsloc)"
   ]
  },
  {
   "cell_type": "code",
   "execution_count": null,
   "metadata": {},
   "outputs": [],
   "source": [
    "# localize the source from the given delay measurement \n",
    "loc,err,grad = delay2loc.delay2loc_grad(micsloc,meas_delayMat)"
   ]
  },
  {
   "cell_type": "code",
   "execution_count": null,
   "metadata": {},
   "outputs": [],
   "source": [
    "# generates 3D images of our environment\n",
    "# refs: TRTimage.py from mpop\n",
    "def fig2data ( fig ):\n",
    "    \"\"\"\n",
    "    @brief Convert a Matplotlib figure to a 4D numpy array with RGBA channels and return it\n",
    "    @param fig a matplotlib figure\n",
    "    @return a numpy 3D array of RGBA values\n",
    "    \"\"\"\n",
    "    # draw the renderer\n",
    "    fig.canvas.draw ( )\n",
    " \n",
    "    # Get the RGBA buffer from the figure\n",
    "    w,h = fig.canvas.get_width_height()\n",
    "    buf = np.fromstring ( fig.canvas.tostring_argb(), dtype=np.uint8 )\n",
    "    buf.shape = ( w, h, 4 ) # quick reshape\n",
    " \n",
    "    # canvas.tostring_argb give pixmap in ARGB mode. Roll the ALPHA channel to have it in RGBA mode\n",
    "    buf = np.roll ( buf, 3, axis = 2 )\n",
    "    return buf\n",
    "# refs: http://stackoverflow.com/questions/11140163/python-matplotlib-plotting-a-3d-cube-a-sphere-and-a-vector\n",
    "def draw_ball(axes,cen,rad):\n",
    "    u, v = np.mgrid[0:2*np.pi:20j, 0:np.pi:10j]\n",
    "    x = rad[0]*np.cos(u)*np.sin(v)\n",
    "    y = rad[1]*np.sin(u)*np.sin(v)\n",
    "    z = rad[2]*np.cos(v)\n",
    "    axes.plot_wireframe(cen[0]+x,cen[1]+y,cen[2]+z,color=\"r\")\n",
    "\n",
    "fig = plt.figure(figsize=(8,8))\n",
    "axes = fig.gca(projection='3d')\n",
    "#axes.set_aspect(\"equal\")\n",
    "\n",
    "axes.scatter(micsloc[:,0],micsloc[:,1],micsloc[:,2],s=100,c='b')\n",
    "for k in range(NCh):\n",
    "    axes.text(micsloc[k,0],micsloc[k,1],micsloc[k,2],'Mic %s' % k,\n",
    "              fontweight='bold',fontsize='large')\n",
    "\n",
    "axes.scatter(loc[0],loc[1],loc[2],c='r')\n",
    "axes.text(loc[0],loc[1],loc[2],'Src',fontweight='bold',fontsize='large')\n",
    "\n",
    "draw_ball(axes,loc,grad/max(grad))\n",
    "\n",
    "axes.set_xlabel('X axis (m)')\n",
    "axes.set_ylabel('Y axis (m)')\n",
    "axes.set_zlabel('Z axis (m)')\n",
    "\n",
    "images = []\n",
    "for angle in range(0,360,1):\n",
    "    axes.view_init(30, angle)\n",
    "    imData = fig2data(fig)\n",
    "    w,h,d = imData.shape\n",
    "    im = PIL_Image.frombytes('RGBA',(w,h),imData)\n",
    "    images.append(im)"
   ]
  },
  {
   "cell_type": "code",
   "execution_count": null,
   "metadata": {},
   "outputs": [],
   "source": [
    "# sanity checks\n",
    "size = fig.get_size_inches()*fig.dpi # size in pixels\n",
    "size = tuple(size.astype(int))\n",
    "print(size)\n",
    "#print('(%s, %s)' % (w,h))\n",
    "print(size == (w,h))\n",
    "\n",
    "print(images[0])\n",
    "plt.figure(figsize=(8,16))\n",
    "plt.subplot(211)\n",
    "plt.imshow(images[0])\n",
    "plt.subplot(212)\n",
    "plt.imshow(images[10])"
   ]
  },
  {
   "cell_type": "code",
   "execution_count": null,
   "metadata": {},
   "outputs": [],
   "source": [
    "# Animate\n",
    "gif_pathname = 'images/micsloc_srcloc.gif'\n",
    "gif = images[0]\n",
    "gif.info['duration'] = tuple([100]*len(images)) # ms per frame\n",
    "gif.info['loop'] = 0 # how many times to loop (0=infinite)\n",
    "gif.save(fp=gif_pathname, format='gif', save_all=True, append_images=images[1:])\n",
    "\n",
    "# verify that the number of frames in the gif equals the number of image files and durations\n",
    "print(len(images))\n",
    "print(PIL_Image.open(gif_pathname).n_frames == len(images))\n",
    "\n",
    "# might need to refresh the page to reload the image,\n",
    "# according to https://github.com/jupyter/notebook/issues/1369\n",
    "Image(url=gif_pathname)"
   ]
  },
  {
   "cell_type": "code",
   "execution_count": null,
   "metadata": {
    "collapsed": true
   },
   "outputs": [],
   "source": [
    "########## Work on all recordings\n",
    "for file in os.listdir(DATAROOT):\n",
    "    print(file)\n",
    "    fs,data = audio_class.readSegment(DATAROOT+file)\n",
    "    break"
   ]
  },
  {
   "cell_type": "code",
   "execution_count": null,
   "metadata": {},
   "outputs": [],
   "source": []
  }
 ],
 "metadata": {
  "kernelspec": {
   "display_name": "Python 3",
   "language": "python",
   "name": "python3"
  },
  "language_info": {
   "codemirror_mode": {
    "name": "ipython",
    "version": 3
   },
   "file_extension": ".py",
   "mimetype": "text/x-python",
   "name": "python",
   "nbconvert_exporter": "python",
   "pygments_lexer": "ipython3",
   "version": "3.6.1"
  }
 },
 "nbformat": 4,
 "nbformat_minor": 2
}
